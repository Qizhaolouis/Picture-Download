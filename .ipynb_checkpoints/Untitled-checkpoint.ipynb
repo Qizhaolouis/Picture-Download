{
 "cells": [
  {
   "cell_type": "code",
   "execution_count": 118,
   "metadata": {
    "ExecuteTime": {
     "end_time": "2018-09-26T03:27:33.562032Z",
     "start_time": "2018-09-26T03:27:33.556468Z"
    }
   },
   "outputs": [],
   "source": [
    "import requests\n",
    "import time\n",
    "from bs4 import BeautifulSoup"
   ]
  },
  {
   "cell_type": "markdown",
   "metadata": {},
   "source": [
    "`get the html`"
   ]
  },
  {
   "cell_type": "code",
   "execution_count": 132,
   "metadata": {
    "ExecuteTime": {
     "end_time": "2018-09-26T03:40:54.637895Z",
     "start_time": "2018-09-26T03:40:54.629900Z"
    }
   },
   "outputs": [],
   "source": [
    "def get_homedepot_html_first_page(tool, header, timeout, sleep_time=6):\n",
    "    url = 'https://www.homedepot.com/b/N-5yc1v/Ntk-semanticsearch/Ntt-{search_term}?NCNI-5'\n",
    "    response = requests.get(url.format(search_term = tool),headers= header, timeout = timeout)\n",
    "    content = response.content\n",
    "    time.sleep(sleep_time)\n",
    "    soup = BeautifulSoup(content, 'html.parser')\n",
    "    return soup"
   ]
  },
  {
   "cell_type": "code",
   "execution_count": 133,
   "metadata": {
    "ExecuteTime": {
     "end_time": "2018-09-26T03:40:55.587612Z",
     "start_time": "2018-09-26T03:40:55.583473Z"
    }
   },
   "outputs": [],
   "source": [
    "def get_homedepot_html(tool, page, header, timeout, sleep_time= 5):\n",
    "    url = 'https://www.homedepot.com/b/N-5yc1v/Ntk-semanticsearch/Ntt-{search_term}?NCNI-5&Nao={number}&Ns=None'\n",
    "    response = requests.get(url.format(search_term = tool, number = page*24),headers= header, timeout = timeout)\n",
    "    content = response.content\n",
    "    time.sleep(sleep_time)\n",
    "    soup = BeautifulSoup(content, 'html.parser')\n",
    "    return soup"
   ]
  },
  {
   "cell_type": "markdown",
   "metadata": {},
   "source": [
    "`get the last page number`"
   ]
  },
  {
   "cell_type": "code",
   "execution_count": 138,
   "metadata": {
    "ExecuteTime": {
     "end_time": "2018-09-26T03:45:55.279225Z",
     "start_time": "2018-09-26T03:45:55.274620Z"
    }
   },
   "outputs": [],
   "source": [
    "def get_last_page(soup):\n",
    "    page_numbers = list(map(lambda x: x.text.replace(',',''), soup.findAll('a',{'class':'hd-pagination__link'})))\n",
    "    page_numbers = [int(number) for number in page_numbers if number != '']\n",
    "    if len(page_numbers) == 0:\n",
    "        return 1\n",
    "    last_page = max(page_numbers)\n",
    "    return last_page"
   ]
  },
  {
   "cell_type": "markdown",
   "metadata": {
    "ExecuteTime": {
     "end_time": "2018-09-26T01:50:47.700200Z",
     "start_time": "2018-09-26T01:50:47.694078Z"
    }
   },
   "source": [
    "`get the links of all the jpg files`"
   ]
  },
  {
   "cell_type": "code",
   "execution_count": 33,
   "metadata": {
    "ExecuteTime": {
     "end_time": "2018-09-26T01:26:46.715427Z",
     "start_time": "2018-09-26T01:26:46.710155Z"
    }
   },
   "outputs": [],
   "source": [
    "def get_pic_links(soup):\n",
    "    links = list(map(lambda x: x['src'], soup.findAll('img')))\n",
    "    links = [link for link in links if (\"http\" in link and 'jpg' in link)]\n",
    "    return links"
   ]
  },
  {
   "cell_type": "markdown",
   "metadata": {},
   "source": [
    "`path should be like C:/user/`"
   ]
  },
  {
   "cell_type": "code",
   "execution_count": 127,
   "metadata": {
    "ExecuteTime": {
     "end_time": "2018-09-26T03:35:45.082153Z",
     "start_time": "2018-09-26T03:35:45.073977Z"
    }
   },
   "outputs": [],
   "source": [
    "def download_pictures(links, path, tool): \n",
    "    folder = path + tool\n",
    "    if not os.path.exists(folder):\n",
    "        os.makedirs(folder)\n",
    "    for i in range(len(links)):\n",
    "        Picture_request = requests.get(links[i])\n",
    "        if Picture_request.status_code == 200:\n",
    "            with open(folder + \"/image\" + str(i) + \".jpg\", 'wb') as f:\n",
    "                f.write(Picture_request.content)\n",
    "    return folder"
   ]
  },
  {
   "cell_type": "markdown",
   "metadata": {},
   "source": [
    "## Download"
   ]
  },
  {
   "cell_type": "code",
   "execution_count": 149,
   "metadata": {
    "ExecuteTime": {
     "end_time": "2018-09-26T03:51:27.284407Z",
     "start_time": "2018-09-26T03:51:27.276735Z"
    }
   },
   "outputs": [],
   "source": [
    "def download_from_homedepot(tool, header, path = '', sleep_time = 10, timeout = 10):\n",
    "    soup = get_homedepot_html_first_page(tool, header,timeout, sleep_time)\n",
    "    last_page = get_last_page(soup)\n",
    "    links = get_pic_links(soup)\n",
    "    print('Already gotten {0} links'.format(len(links)))\n",
    "    if last_page == 1:\n",
    "        download_pictures(links, path, tool)\n",
    "        print('Finished {0}'.format(tool))\n",
    "        return None\n",
    "    if last_page > 7:\n",
    "        last_page = 7\n",
    "    for page in range(1,last_page):\n",
    "        soup = get_homedepot_html(tool, page, header,timeout, sleep_time)\n",
    "        links += get_pic_links(soup)\n",
    "        print('Already gotten {0} links'.format(len(links)))\n",
    "    download_pictures(links, path, tool)\n",
    "    print('Finished {0}'.format(tool))\n",
    "    return None"
   ]
  },
  {
   "cell_type": "code",
   "execution_count": 151,
   "metadata": {
    "ExecuteTime": {
     "end_time": "2018-09-26T23:13:46.504219Z",
     "start_time": "2018-09-26T23:12:54.946147Z"
    },
    "scrolled": true
   },
   "outputs": [
    {
     "name": "stdout",
     "output_type": "stream",
     "text": [
      "Already gotten 29 links\n",
      "Already gotten 58 links\n",
      "Already gotten 87 links\n",
      "Already gotten 116 links\n",
      "Already gotten 145 links\n",
      "Already gotten 174 links\n",
      "Already gotten 203 links\n",
      "Finished handdle\n"
     ]
    }
   ],
   "source": [
    "header = {\n",
    "    'user-agent': 'Mozilla/5.0 (Macintosh; Intel Mac OS X 10_11_6) AppleWebKit/537.36 (KHTML, like Gecko) Chrome/53.0.2785.143 Safari/537.36'}\n",
    "\n",
    "for tool in ['handdle']:\n",
    "    download_from_homedepot(tool, header, path = '', sleep_time = 2)"
   ]
  },
  {
   "cell_type": "code",
   "execution_count": 153,
   "metadata": {
    "ExecuteTime": {
     "end_time": "2018-09-26T23:14:45.422265Z",
     "start_time": "2018-09-26T23:14:45.408949Z"
    }
   },
   "outputs": [
    {
     "ename": "NameError",
     "evalue": "name '__file__' is not defined",
     "output_type": "error",
     "traceback": [
      "\u001b[0;31m---------------------------------------------------------------------------\u001b[0m",
      "\u001b[0;31mNameError\u001b[0m                                 Traceback (most recent call last)",
      "\u001b[0;32m<ipython-input-153-84309aa7f7d4>\u001b[0m in \u001b[0;36m<module>\u001b[0;34m()\u001b[0m\n\u001b[1;32m      1\u001b[0m \u001b[0;32mimport\u001b[0m \u001b[0mos\u001b[0m\u001b[0;34m\u001b[0m\u001b[0m\n\u001b[0;32m----> 2\u001b[0;31m \u001b[0mpath\u001b[0m \u001b[0;34m=\u001b[0m \u001b[0mos\u001b[0m\u001b[0;34m.\u001b[0m\u001b[0mpath\u001b[0m\u001b[0;34m.\u001b[0m\u001b[0mdirname\u001b[0m\u001b[0;34m(\u001b[0m\u001b[0mos\u001b[0m\u001b[0;34m.\u001b[0m\u001b[0mpath\u001b[0m\u001b[0;34m.\u001b[0m\u001b[0mrealpath\u001b[0m\u001b[0;34m(\u001b[0m\u001b[0m__file__\u001b[0m\u001b[0;34m)\u001b[0m\u001b[0;34m)\u001b[0m\u001b[0;34m\u001b[0m\u001b[0m\n\u001b[0m",
      "\u001b[0;31mNameError\u001b[0m: name '__file__' is not defined"
     ]
    }
   ],
   "source": [
    "import os\n",
    "path = os.path.dirname(os.path.realpath(__file__)) + ''"
   ]
  }
 ],
 "metadata": {
  "kernelspec": {
   "display_name": "Python 3",
   "language": "python",
   "name": "python3"
  },
  "language_info": {
   "codemirror_mode": {
    "name": "ipython",
    "version": 3
   },
   "file_extension": ".py",
   "mimetype": "text/x-python",
   "name": "python",
   "nbconvert_exporter": "python",
   "pygments_lexer": "ipython3",
   "version": "3.5.4"
  },
  "latex_envs": {
   "LaTeX_envs_menu_present": true,
   "autoclose": false,
   "autocomplete": true,
   "bibliofile": "biblio.bib",
   "cite_by": "apalike",
   "current_citInitial": 1,
   "eqLabelWithNumbers": true,
   "eqNumInitial": 1,
   "hotkeys": {
    "equation": "Ctrl-E",
    "itemize": "Ctrl-I"
   },
   "labels_anchors": false,
   "latex_user_defs": false,
   "report_style_numbering": false,
   "user_envs_cfg": false
  },
  "toc": {
   "base_numbering": 1,
   "nav_menu": {},
   "number_sections": true,
   "sideBar": true,
   "skip_h1_title": false,
   "title_cell": "Table of Contents",
   "title_sidebar": "Contents",
   "toc_cell": false,
   "toc_position": {},
   "toc_section_display": true,
   "toc_window_display": false
  },
  "varInspector": {
   "cols": {
    "lenName": 16,
    "lenType": 16,
    "lenVar": 40
   },
   "kernels_config": {
    "python": {
     "delete_cmd_postfix": "",
     "delete_cmd_prefix": "del ",
     "library": "var_list.py",
     "varRefreshCmd": "print(var_dic_list())"
    },
    "r": {
     "delete_cmd_postfix": ") ",
     "delete_cmd_prefix": "rm(",
     "library": "var_list.r",
     "varRefreshCmd": "cat(var_dic_list()) "
    }
   },
   "types_to_exclude": [
    "module",
    "function",
    "builtin_function_or_method",
    "instance",
    "_Feature"
   ],
   "window_display": false
  }
 },
 "nbformat": 4,
 "nbformat_minor": 2
}
